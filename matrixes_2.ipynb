{
 "cells": [
  {
   "cell_type": "markdown",
   "metadata": {},
   "source": [
    "**Одинична матриця**\n",
    "\n",
    "Одинична матриця — це квадратна матриця, у якої на головній діагоналі стоять одиниці, а всі інші елементи дорівнюють нулю. Одиничну матрицю позначають як I.\n",
    "\n",
    "Для створення одиничної матриці можна використати метод *identity*, але є альтернативний варіант, метод *eye*, який при цьому дозволяє задати зміщення діагоналі з одиничними значеннями. Зміщення задаємо через ключ значення k :"
   ]
  },
  {
   "cell_type": "code",
   "execution_count": 1,
   "metadata": {},
   "outputs": [
    {
     "name": "stdout",
     "output_type": "stream",
     "text": [
      "[[0. 0. 0. 0.]\n",
      " [1. 0. 0. 0.]\n",
      " [0. 1. 0. 0.]\n",
      " [0. 0. 1. 0.]]\n"
     ]
    }
   ],
   "source": [
    "import numpy as np\n",
    "\n",
    "a = np.eye(4, k=-1, dtype=float)\n",
    "print(a)"
   ]
  },
  {
   "cell_type": "markdown",
   "metadata": {},
   "source": [
    "**Обернена матриця**\n",
    "\n",
    "Bизначаємо обернену матрицю - ми можемо помножити на обернене число, тобто число в -1 степені. \n",
    "Обернена матриця існує лише для квадратної матриці — матриці, у якої к-сть рядків рівна к-сті стовпців.\n",
    "\n",
    "Для отримання оберненої матриці необхідно використати функцію *inv* із пакету *linalg*."
   ]
  },
  {
   "cell_type": "code",
   "execution_count": 2,
   "metadata": {},
   "outputs": [
    {
     "name": "stdout",
     "output_type": "stream",
     "text": [
      "[[ 0.64 -0.84 -0.12]\n",
      " [-0.4   0.4   0.2 ]\n",
      " [ 0.12  0.28  0.04]]\n"
     ]
    }
   ],
   "source": [
    "import numpy as np\n",
    "\n",
    "a = np.array([[ 1, 0, 3],\n",
    "              [-1,-1, 2],\n",
    "              [ 4, 7, 2]])\n",
    "\n",
    "a_inv = np.linalg.inv(a)\n",
    "print(a_inv)"
   ]
  }
 ],
 "metadata": {
  "kernelspec": {
   "display_name": "Python 3 (ipykernel)",
   "language": "python",
   "name": "python3"
  },
  "language_info": {
   "codemirror_mode": {
    "name": "ipython",
    "version": 3
   },
   "file_extension": ".py",
   "mimetype": "text/x-python",
   "name": "python",
   "nbconvert_exporter": "python",
   "pygments_lexer": "ipython3",
   "version": "3.11.4"
  }
 },
 "nbformat": 4,
 "nbformat_minor": 2
}
