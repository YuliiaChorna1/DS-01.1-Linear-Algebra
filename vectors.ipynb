{
 "cells": [
  {
   "cell_type": "markdown",
   "id": "17708193",
   "metadata": {},
   "source": [
    "**Додавання / віднімання скаляра та вектора:**"
   ]
  },
  {
   "cell_type": "code",
   "execution_count": null,
   "id": "b69d047d",
   "metadata": {
    "vscode": {
     "languageId": "plaintext"
    }
   },
   "outputs": [],
   "source": [
    "import numpy as np\n",
    "\n",
    "a = np.array([1, 2, 3, 4, 5], dtype=float)\n",
    "print(a + 2) # [3. 4. 5. 6. 7.]\n",
    "print(a - 1) # [0. 1. 2. 3. 4.]"
   ]
  },
  {
   "cell_type": "markdown",
   "id": "384fddb4",
   "metadata": {},
   "source": [
    "**Множення на скаляр:**\n",
    "\n",
    "Коли ми множимо вектор на скаляр, то отримуємо вектор, який належить цьому ж лінійному простору, що й початковий вектор. Результатом буде те, що кожен елемент вектора, тобто координати, будуть помножені на це число"
   ]
  },
  {
   "cell_type": "code",
   "execution_count": null,
   "id": "c31bfcf2",
   "metadata": {
    "vscode": {
     "languageId": "plaintext"
    }
   },
   "outputs": [],
   "source": [
    "import numpy as np\n",
    "\n",
    "a = np.array([1, 2, 3, 4, 5], dtype=float)\n",
    "print(a)  # [1. 2. 3. 4. 5.]\n",
    "\n",
    "b = 5*a\n",
    "print(b)  # [ 5. 10. 15. 20. 25.]"
   ]
  },
  {
   "cell_type": "markdown",
   "id": "4ccd9bd8",
   "metadata": {},
   "source": [
    "**Додавання та віднімання двох векторів**\n",
    "\n",
    "Операція можлива лише у тому випадку, якщо наші вектори однієї розмірності. Дізнатись розмір нашого вектора можна за допомогою команди size.\n",
    "\n",
    "Коли ми додамо, чи віднімемо між собою два вектори, то попарно віднімуться чи просумуються відповідні елементи наших векторів:"
   ]
  },
  {
   "cell_type": "code",
   "execution_count": null,
   "id": "fa2727b2",
   "metadata": {
    "vscode": {
     "languageId": "plaintext"
    }
   },
   "outputs": [],
   "source": [
    "import numpy as np\n",
    "\n",
    "a = np.array([1, 2, 3, 4, 5], dtype=float)\n",
    "print(a.size)  # 5"
   ]
  },
  {
   "cell_type": "code",
   "execution_count": null,
   "id": "cb8e750c",
   "metadata": {
    "vscode": {
     "languageId": "plaintext"
    }
   },
   "outputs": [],
   "source": [
    "import numpy as np\n",
    "\n",
    "a = np.array([1, 2, 3])\n",
    "b = np.array([4, 5, 6])\n",
    "\n",
    "print(a + b)  # [5 7 9]\n",
    "print(a - b)  # [-3 -3 -3]\n",
    "print(b - a)  # [3 3 3]"
   ]
  },
  {
   "cell_type": "markdown",
   "id": "3f77e6c9",
   "metadata": {},
   "source": [
    "**Скалярний добуток**\n",
    "\n",
    "Скалярним добутком двох векторів буде сума попарно перемножених відповідних координат цих двох векторів. Для прикладу обчислимо скалярний добуток двох тривимірних векторів y в явному вигляді:"
   ]
  },
  {
   "cell_type": "code",
   "execution_count": null,
   "id": "e92da09f",
   "metadata": {
    "vscode": {
     "languageId": "plaintext"
    }
   },
   "outputs": [],
   "source": [
    "import numpy as np\n",
    "\n",
    "a = np.array([1, 2, 3])\n",
    "b = np.array([4, 5, 6])\n",
    "\n",
    "print(a * b)  # [ 4 10 18]"
   ]
  },
  {
   "cell_type": "markdown",
   "id": "ba391ed2",
   "metadata": {},
   "source": [
    "Ми виконали поелементне множення відповідних елементів і отримали новий вектор, а не скалярний добуток. А це тому, що оператор  ∗  відповідає поелементному множенню для двох векторів, чи у нашому випадку масивів ndarray, а щоб виконати скалярний добуток ми повинні виконати наступний скрипт:"
   ]
  },
  {
   "cell_type": "code",
   "execution_count": null,
   "id": "d883e1c1",
   "metadata": {
    "vscode": {
     "languageId": "plaintext"
    }
   },
   "outputs": [],
   "source": [
    "import numpy as np\n",
    "\n",
    "a = np.array([1, 2, 3])\n",
    "b = np.array([4, 5, 6])\n",
    "\n",
    "print(np.dot(a, b))  # 32"
   ]
  },
  {
   "cell_type": "markdown",
   "id": "d4fab954",
   "metadata": {},
   "source": [
    "Для масивів ndarray можна виконувати операцію поелементного ділення також:"
   ]
  },
  {
   "cell_type": "code",
   "execution_count": null,
   "id": "aecb32f0",
   "metadata": {
    "vscode": {
     "languageId": "plaintext"
    }
   },
   "outputs": [],
   "source": [
    "import numpy as np\n",
    "\n",
    "a = np.array([1, 2, 3])\n",
    "b = np.array([4, 5, 6])\n",
    "\n",
    "print(b / a)  # [4.  2.5 2. ]"
   ]
  },
  {
   "cell_type": "markdown",
   "id": "97a86227",
   "metadata": {},
   "source": [
    "**Базис векторів**\n",
    "\n",
    "У лінійній алгебрі базис векторів — це набір векторів, що використовуються для опису інших векторів у лінійному просторі. Кожен вектор в просторі можна представити унікальною лінійною комбінацією базисних векторів з деякими коефіцієнтами.\n",
    "\n",
    "Наприклад, в двовимірному просторі, вектори \n",
    "(1,0) та (0,1) можуть служити базисом. Будь-який інший вектор у цьому просторі можна представити як лінійну комбінацію цих базисних векторів зі своїми власними коефіцієнтами. Наприклад, вектор (3,4) можна представити як 3∗(1,0)+4∗(0,1).\n",
    "\n",
    "Важливо зазначити, що для одного лінійного простору, ми можемо створити різні набори базисних векторів. У деяких випадках можуть бути використані інші набори векторів, що утворюють базис, залежно від потреби."
   ]
  }
 ],
 "metadata": {
  "kernelspec": {
   "display_name": "Python 3 (ipykernel)",
   "language": "python",
   "name": "python3"
  },
  "language_info": {
   "codemirror_mode": {
    "name": "ipython",
    "version": 3
   },
   "file_extension": ".py",
   "mimetype": "text/x-python",
   "name": "python",
   "nbconvert_exporter": "python",
   "pygments_lexer": "ipython3",
   "version": "3.11.4"
  }
 },
 "nbformat": 4,
 "nbformat_minor": 5
}
