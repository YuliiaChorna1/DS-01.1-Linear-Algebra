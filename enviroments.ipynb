{
 "cells": [
  {
   "cell_type": "markdown",
   "metadata": {},
   "source": [
    "# Python Data\n",
    "\n",
    "## Installation\n",
    "\n",
    "We are going to install our environmet for usage both for executing python moduls, and for an easy way to attach your virtual environment as a Jupyter kernel to your Jupyter Notebook.\n",
    "There are a lot of ways to create a virtual environment with a Jupiter Notebook instance. Below, a few ways are presented, and you can select whichever one works for you."
   ]
  },
  {
   "cell_type": "markdown",
   "metadata": {},
   "source": [
    "## conda\n",
    "\n",
    "[Conda usage manual](...)\n",
    "\n",
    "#### Benefits\n",
    "- Allows you to manage environments on instances as a non-root user (if local admin rights are missing)\n",
    "- Allows you to select the Python version to be installed in your environment during the environment initialization, without the need to install this Python version beforehand.\n",
    "- Supports C++ modules\n",
    "\n",
    "#### Prerequisites\n",
    "- `conda` tool has to be installed in your user via a distribution, e.g. [miniconda](...)\n",
    "- the root directory should contain a `requirements.txt` file with the list of dependencies\n",
    "\n",
    "#### Usage\n",
    "```\n",
    "conda create -n python_data_env python=3.12.4\n",
    "conda activate python_data_env\n",
    "\n",
    "pip install -r requirements.txt # should include `jupyter` or  `notebook` as a dependency\n",
    "\n",
    "jupyter notebook\n",
    "```"
   ]
  },
  {
   "cell_type": "markdown",
   "metadata": {},
   "source": [
    "## pipenv\n",
    "[Pipenv on PyPI](...)\n",
    "\n",
    "#### Benefits\n",
    "- Automatic update of the dependency list in the `Pipenv` file after installing a new package from the command line \n",
    "- Easy management of the versions of the virtual environment with the `lock` file\n",
    "\n",
    "#### Prerequisites\n",
    "- `pipenv` tool has to be installed in your user, a convenient way is via PyPI `pip install pipenv`\n",
    "- the root directory should contain a `requirements.txt` file with the list of dependencies\n",
    "\n",
    "#### Usage\n",
    "```\n",
    "pipenv install -r requirements.txt # should include `jupiter` or `notebook` as a dependency\n",
    "pipenv shell\n",
    "pipenv run jupiter notebook\n",
    "```"
   ]
  },
  {
   "cell_type": "markdown",
   "metadata": {},
   "source": [
    "## poetry\n",
    "[Poetry on PyPI](...)\n",
    "\n",
    "#### Benefits\n",
    "- Easy management of the versions of the virtual environment with the `lock` file\n",
    "- Multifunctional tool, having additional features relevant especially for production software and deployment, like separation of core, dev, other types dependencies; specifying special commands and entrypoints for the application etc.\n",
    "\n",
    "#### Prerequisites\n",
    "- `poetry` tool installed globally, a convenient way is via PyPI `pip install poetry`\n",
    "- the root directory should contain a `pyproject.toml` file with the list of dependencies and other configuration info\n",
    "\n",
    "#### Usage\n",
    "```\n",
    "poetry\n",
    "poetry shell\n",
    "poetry run jupiter notebook\n",
    "```"
   ]
  }
 ],
 "metadata": {
  "kernelspec": {
   "display_name": "Python 3",
   "language": "python",
   "name": "python3"
  },
  "language_info": {
   "name": "python",
   "version": "3.12.4"
  }
 },
 "nbformat": 4,
 "nbformat_minor": 2
}
