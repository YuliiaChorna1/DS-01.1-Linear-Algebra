{
 "cells": [
  {
   "cell_type": "markdown",
   "metadata": {},
   "source": [
    "### можливості NumPy"
   ]
  },
  {
   "cell_type": "markdown",
   "metadata": {},
   "source": [
    "атрибути масиву ndarray:\n",
    "\n",
    "*shape* - розмір масиву вздовж кожної з його осей, повертається як кортеж цілих чисел\n",
    "\n",
    "*ndim* - кількість осей. зверніть увагу: ndim == len(shape)\n",
    "\n",
    "*size* - загальна кількість елементів у масиві, рівна добутку кортежу shape\n",
    "\n",
    "*dtype* - тип даних масиву\n",
    "\n",
    "*data* - \"буфер\" в памяті, що містить дійсні елементи масиву\n",
    "\n",
    "*itemsize* - розмір у байтах кожного елемента"
   ]
  },
  {
   "cell_type": "markdown",
   "metadata": {},
   "source": [
    "Створити вектор або матрицю, які складаються з одиниць:"
   ]
  },
  {
   "cell_type": "code",
   "execution_count": 1,
   "metadata": {},
   "outputs": [
    {
     "name": "stdout",
     "output_type": "stream",
     "text": [
      "[1. 1. 1. 1. 1.]\n",
      "[[1 1 1]\n",
      " [1 1 1]]\n"
     ]
    }
   ],
   "source": [
    "import numpy as np\n",
    "\n",
    "a = np.ones((5,), dtype=float)\n",
    "print(a)\n",
    "\n",
    "m = np.ones((2, 3), dtype=int)\n",
    "print(m)"
   ]
  },
  {
   "cell_type": "markdown",
   "metadata": {},
   "source": [
    "Cтворити вектор або матрицю, які складаються з нулів:"
   ]
  },
  {
   "cell_type": "code",
   "execution_count": 2,
   "metadata": {},
   "outputs": [
    {
     "name": "stdout",
     "output_type": "stream",
     "text": [
      "[0. 0. 0. 0. 0.]\n",
      "[[0 0 0]\n",
      " [0 0 0]]\n"
     ]
    }
   ],
   "source": [
    "import numpy as np\n",
    "\n",
    "a = np.zeros(5, dtype=float)\n",
    "print(a)\n",
    "\n",
    "m = np.zeros((2, 3), dtype=int)\n",
    "print(m)"
   ]
  },
  {
   "cell_type": "markdown",
   "metadata": {},
   "source": [
    "Cтворення масиву, що містить послідовність чисел (np.arange & np.linspace):"
   ]
  },
  {
   "cell_type": "markdown",
   "metadata": {},
   "source": [
    "Метод *np.arange* (аналогічний методу range in Python) - не включає останні елементи послідовності:"
   ]
  },
  {
   "cell_type": "code",
   "execution_count": 3,
   "metadata": {},
   "outputs": [
    {
     "name": "stdout",
     "output_type": "stream",
     "text": [
      "[0 1 2 3 4]\n",
      "[1.  1.5 2.  2.5]\n"
     ]
    }
   ],
   "source": [
    "import numpy as np\n",
    "\n",
    "a = np.arange(5)\n",
    "b = np.arange(1, 3, 0.5)\n",
    "print(a)\n",
    "print(b)"
   ]
  },
  {
   "cell_type": "markdown",
   "metadata": {},
   "source": [
    "Метод *np.linspace* - включає останній елемент визначеної послідовності.\n",
    "ключовий параметр num визначає кількість елементів у послідовності:"
   ]
  },
  {
   "cell_type": "code",
   "execution_count": 6,
   "metadata": {},
   "outputs": [
    {
     "name": "stdout",
     "output_type": "stream",
     "text": [
      "[1. 2. 3. 4. 5.]\n",
      "[1. 2. 3.]\n"
     ]
    }
   ],
   "source": [
    "import numpy as np\n",
    "\n",
    "a = np.linspace(1, 5, num=5)\n",
    "b = np.linspace(1, 3, num=3)\n",
    "print(a)\n",
    "print(b)"
   ]
  },
  {
   "cell_type": "markdown",
   "metadata": {},
   "source": [
    "Cтворювати масиви та матриці наповнені випадковими значеннями:"
   ]
  },
  {
   "cell_type": "code",
   "execution_count": 7,
   "metadata": {},
   "outputs": [
    {
     "name": "stdout",
     "output_type": "stream",
     "text": [
      "[0.88536462 0.42264446 0.08706637]\n",
      "[[0.66744048 0.9222229  0.75530536]\n",
      " [0.64758625 0.46860386 0.0617628 ]\n",
      " [0.80467458 0.4806908  0.48376547]]\n"
     ]
    }
   ],
   "source": [
    "import numpy as np\n",
    "a = np.random.random(3)\n",
    "b = np.random.random((3, 3))\n",
    "print(a)\n",
    "print(b)"
   ]
  },
  {
   "cell_type": "markdown",
   "metadata": {},
   "source": [
    "## Індексація\n",
    "\n",
    "Масив NumPy можна розділити на частини та присвоїти їм індекси. Принцип роботи схожий на те, як це відбувається зі списками Python."
   ]
  },
  {
   "cell_type": "code",
   "execution_count": 8,
   "metadata": {},
   "outputs": [
    {
     "name": "stdout",
     "output_type": "stream",
     "text": [
      "1\n",
      "[2 3 4 5]\n",
      "[1 2]\n"
     ]
    }
   ],
   "source": [
    "import numpy as np\n",
    "\n",
    "a = np.array([1, 2, 3, 4, 5])\n",
    "print(a[0])\n",
    "print(a[1:])\n",
    "print(a[:2])"
   ]
  },
  {
   "cell_type": "markdown",
   "metadata": {},
   "source": [
    "Індексація багатовимірного масиву NumPy:"
   ]
  },
  {
   "cell_type": "code",
   "execution_count": 9,
   "metadata": {},
   "outputs": [
    {
     "name": "stdout",
     "output_type": "stream",
     "text": [
      "5\n",
      "[5 8]\n",
      "[1 2]\n"
     ]
    }
   ],
   "source": [
    "import numpy as np\n",
    "\n",
    "a = np.array([[1, 2, 3], [4, 5, 6], [7, 8, 9]])\n",
    "print(a[1, 1])\n",
    "print(a[1:, 1])\n",
    "print(a[0, :2])"
   ]
  }
 ],
 "metadata": {
  "kernelspec": {
   "display_name": "Python 3",
   "language": "python",
   "name": "python3"
  },
  "language_info": {
   "codemirror_mode": {
    "name": "ipython",
    "version": 3
   },
   "file_extension": ".py",
   "mimetype": "text/x-python",
   "name": "python",
   "nbconvert_exporter": "python",
   "pygments_lexer": "ipython3",
   "version": "3.11.4"
  }
 },
 "nbformat": 4,
 "nbformat_minor": 2
}
