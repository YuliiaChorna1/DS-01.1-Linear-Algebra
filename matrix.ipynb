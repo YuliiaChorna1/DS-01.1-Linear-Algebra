{
  "nbformat": 4,
  "nbformat_minor": 0,
  "metadata": {
    "colab": {
      "provenance": [],
      "authorship_tag": "ABX9TyN9rhSn5nFzIhFy7uQhSTTo",
      "include_colab_link": true
    },
    "kernelspec": {
      "name": "python3",
      "display_name": "Python 3"
    },
    "language_info": {
      "name": "python"
    }
  },
  "cells": [
    {
      "cell_type": "markdown",
      "metadata": {
        "id": "view-in-github",
        "colab_type": "text"
      },
      "source": [
        "<a href=\"https://colab.research.google.com/github/YuliiaChorna1/DS-01.1-Linear-Algebra/blob/main/matrix.ipynb\" target=\"_parent\"><img src=\"https://colab.research.google.com/assets/colab-badge.svg\" alt=\"Open In Colab\"/></a>"
      ]
    },
    {
      "cell_type": "markdown",
      "source": [
        "**Матриці**\n",
        "\n",
        "Оскільки ndarray є масивом, то створивши масив масивів, ми отримаємо матрицю:"
      ],
      "metadata": {
        "id": "S-TY91PHJGWx"
      }
    },
    {
      "cell_type": "code",
      "source": [
        "import numpy as np\n",
        "m = np.array([[1, 2, 3], [4, 5, 6]], dtype=int)\n",
        "\n",
        "print(m)"
      ],
      "metadata": {
        "colab": {
          "base_uri": "https://localhost:8080/"
        },
        "id": "C_DQeBBtJRK9",
        "outputId": "4fb349b0-857f-4463-854b-f447d45d948e"
      },
      "execution_count": 1,
      "outputs": [
        {
          "output_type": "stream",
          "name": "stdout",
          "text": [
            "[[1 2 3]\n",
            " [4 5 6]]\n"
          ]
        }
      ]
    },
    {
      "cell_type": "markdown",
      "source": [
        "Розмірність матриці, як і векторів, можна подивитись за допомогою даного атрибуту shape:"
      ],
      "metadata": {
        "id": "Dk9-akilJulK"
      }
    },
    {
      "cell_type": "code",
      "source": [
        "import numpy as np\n",
        "\n",
        "a = np.array([1, 2, 3, 4, 5], dtype=float)\n",
        "print(a.shape)  # (5,)\n",
        "\n",
        "m = np.array([[1, 2, 3], [4, 5, 6]], dtype=int)\n",
        "print(m.shape)  # (2, 3)"
      ],
      "metadata": {
        "colab": {
          "base_uri": "https://localhost:8080/"
        },
        "id": "aj8lgbPQJ8Or",
        "outputId": "b5c59302-d4ad-4457-aa17-3181ede04e33"
      },
      "execution_count": 2,
      "outputs": [
        {
          "output_type": "stream",
          "name": "stdout",
          "text": [
            "(5,)\n",
            "(2, 3)\n"
          ]
        }
      ]
    },
    {
      "cell_type": "markdown",
      "source": [
        "Операції з матрицями будуть відбуватися таким самим чином, як і з вектором, оскільки це у нас масив масивів, окрім множення.\n",
        "\n",
        "Якщо ми будемо використовувати оператор ∗ , то отримаємо поелементне множення всіх відповідних елементів двох матриць і можливо провести таку операцію *лише для двох матриць однієї розмірності* :"
      ],
      "metadata": {
        "id": "8hUf1ZwaPCt4"
      }
    },
    {
      "cell_type": "code",
      "source": [
        "import numpy as np\n",
        "\n",
        "a = np.array([[2, 3, 4, 5],\n",
        "              [1, 2, 3, 4]])\n",
        "\n",
        "b = np.array([[2, 2, 2, 2],\n",
        "              [1, 1, 1, 1]])\n",
        "\n",
        "print(a*b)"
      ],
      "metadata": {
        "colab": {
          "base_uri": "https://localhost:8080/"
        },
        "id": "QWJbbijZPQjM",
        "outputId": "20716985-062f-4964-eeeb-d02bc73f5736"
      },
      "execution_count": 3,
      "outputs": [
        {
          "output_type": "stream",
          "name": "stdout",
          "text": [
            "[[ 4  6  8 10]\n",
            " [ 1  2  3  4]]\n"
          ]
        }
      ]
    },
    {
      "cell_type": "markdown",
      "source": [
        "**Множення матриць**\n",
        "\n",
        "Множення матриць — це алгебраїчна операція, яка використовується для обчислення нової матриці шляхом множення двох вихідних матриць. Якщо ми маємо дві матриці A та B, де A має розмірність m×n (тобто має\n",
        "m рядків і n стовпців), а B має розмірність n×p (має n рядків і p стовпців), то їх добуток AB буде матрицею C розмірності m×p, де кожен елемент нової матриці c обчислюється як скалярний добуток i-ого рядка матриці A та j-ого стовпця матриці B​.\n",
        "\n",
        "Дану операцію можна провести лише у випадку, коли рядки матриці A мають такий же розмір, як і стовпці матриці B, тобто к-сть стовпців матриці A повинна бути рівна к-сті рядків матриці B."
      ],
      "metadata": {
        "id": "Z54tDK-QViPc"
      }
    },
    {
      "cell_type": "code",
      "source": [
        "import numpy as np\n",
        "\n",
        "a = np.array([[1, 2, 3],\n",
        "              [0, 1, 2]])\n",
        "\n",
        "b = np.array([[ 1, 2],\n",
        "              [ 0, 4],\n",
        "              [-1, 0]])\n",
        "\n",
        "c = np.dot(a, b)\n",
        "print(c)"
      ],
      "metadata": {
        "colab": {
          "base_uri": "https://localhost:8080/"
        },
        "id": "xl-5y1_yWloy",
        "outputId": "bc295b0d-db10-44ce-c5ae-561b94c5374d"
      },
      "execution_count": 4,
      "outputs": [
        {
          "output_type": "stream",
          "name": "stdout",
          "text": [
            "[[-2 10]\n",
            " [-2  4]]\n"
          ]
        }
      ]
    },
    {
      "cell_type": "markdown",
      "source": [
        "**Транспонування та зміна форми матриць в numpy**\n",
        "\n",
        "​Транспонування матриці — заміна рядків матриці на її стовпці, а стовпців, на рядки:"
      ],
      "metadata": {
        "id": "DB-k7_htW_ph"
      }
    },
    {
      "cell_type": "code",
      "source": [
        "import numpy as np\n",
        "\n",
        "a = np.array([[1, 2, 3],\n",
        "              [4, 5, 6],\n",
        "              [7, 8, 9]])\n",
        "print(a)\n",
        "b = a.T\n",
        "print(b)"
      ],
      "metadata": {
        "colab": {
          "base_uri": "https://localhost:8080/"
        },
        "id": "_Oq4saluXSo2",
        "outputId": "155a8c55-8eca-4677-9726-c3dd78ddbecd"
      },
      "execution_count": 6,
      "outputs": [
        {
          "output_type": "stream",
          "name": "stdout",
          "text": [
            "[[1 2 3]\n",
            " [4 5 6]\n",
            " [7 8 9]]\n",
            "[[1 4 7]\n",
            " [2 5 8]\n",
            " [3 6 9]]\n"
          ]
        }
      ]
    },
    {
      "cell_type": "markdown",
      "source": [
        "Розмірність вектора або матриці можна також змінювати методом *reshape*"
      ],
      "metadata": {
        "id": "1BAe09EgYPGi"
      }
    },
    {
      "cell_type": "code",
      "source": [
        "import numpy as np\n",
        "\n",
        "a = np.array([[1, 2, 3],\n",
        "              [4, 5, 6]])\n",
        "b = a.reshape((3, 2))\n",
        "print(b)"
      ],
      "metadata": {
        "colab": {
          "base_uri": "https://localhost:8080/"
        },
        "id": "C9EgW9keYSq7",
        "outputId": "7058b951-7c2e-4a27-ed0b-ca84a4863e49"
      },
      "execution_count": 7,
      "outputs": [
        {
          "output_type": "stream",
          "name": "stdout",
          "text": [
            "[[1 2]\n",
            " [3 4]\n",
            " [5 6]]\n"
          ]
        }
      ]
    },
    {
      "cell_type": "markdown",
      "source": [
        "Перетворення матриці в плоский вектор за допомогою методу *flatten*:"
      ],
      "metadata": {
        "id": "AWHq8HOTY1nC"
      }
    },
    {
      "cell_type": "code",
      "source": [
        "import numpy as np\n",
        "\n",
        "a = np.array([[1, 2, 3], [4, 5, 6]])\n",
        "b = a.flatten()\n",
        "print(b)"
      ],
      "metadata": {
        "colab": {
          "base_uri": "https://localhost:8080/"
        },
        "id": "syIatFSWY9b4",
        "outputId": "ce84fa13-9894-4717-cbaa-aa56b6a9102e"
      },
      "execution_count": 8,
      "outputs": [
        {
          "output_type": "stream",
          "name": "stdout",
          "text": [
            "[1 2 3 4 5 6]\n"
          ]
        }
      ]
    }
  ]
}